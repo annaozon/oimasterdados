{
 "cells": [
  {
   "cell_type": "markdown",
   "id": "8915cd9f",
   "metadata": {},
   "source": [
    "## <center><font color='green'>Mao na Massa Sessao II </font></center>"
   ]
  },
  {
   "cell_type": "code",
   "execution_count": 1,
   "id": "e03df099",
   "metadata": {},
   "outputs": [
    {
     "name": "stdout",
     "output_type": "stream",
     "text": [
      "1\n"
     ]
    },
    {
     "data": {
      "text/plain": [
       "int"
      ]
     },
     "execution_count": 1,
     "metadata": {},
     "output_type": "execute_result"
    }
   ],
   "source": [
    "#Variable int\n",
    "\n",
    "a=1\n",
    "print (a)\n",
    "type(a)"
   ]
  },
  {
   "cell_type": "code",
   "execution_count": 7,
   "id": "c818476b",
   "metadata": {},
   "outputs": [
    {
     "name": "stdout",
     "output_type": "stream",
     "text": [
      "2.5\n"
     ]
    },
    {
     "data": {
      "text/plain": [
       "float"
      ]
     },
     "execution_count": 7,
     "metadata": {},
     "output_type": "execute_result"
    }
   ],
   "source": [
    "#Variable float\n",
    "\n",
    "b=5\n",
    "c=2\n",
    "d=5/2\n",
    "print(d)\n",
    "type(d)"
   ]
  },
  {
   "cell_type": "code",
   "execution_count": 8,
   "id": "9dafc0d1",
   "metadata": {},
   "outputs": [
    {
     "name": "stdout",
     "output_type": "stream",
     "text": [
      "Anna\n"
     ]
    },
    {
     "data": {
      "text/plain": [
       "str"
      ]
     },
     "execution_count": 8,
     "metadata": {},
     "output_type": "execute_result"
    }
   ],
   "source": [
    "#Variable string\n",
    "e='Anna'\n",
    "print(e)\n",
    "type(e)"
   ]
  },
  {
   "cell_type": "code",
   "execution_count": 11,
   "id": "56ca5533",
   "metadata": {},
   "outputs": [
    {
     "name": "stdout",
     "output_type": "stream",
     "text": [
      "27\n",
      "27\n",
      "81\n"
     ]
    }
   ],
   "source": [
    "#PEMDAS\n",
    "\n",
    "x=3**2*3\n",
    "y=3*3**2\n",
    "z=(3*3)**2\n",
    "\n",
    "print(x)\n",
    "print(y)\n",
    "print(z)"
   ]
  },
  {
   "cell_type": "code",
   "execution_count": 9,
   "id": "e3e1b797",
   "metadata": {},
   "outputs": [
    {
     "data": {
      "text/plain": [
       "1.6666666666666667"
      ]
     },
     "execution_count": 9,
     "metadata": {},
     "output_type": "execute_result"
    }
   ],
   "source": [
    "#Exponential\n",
    "\n",
    "5/9**0.5"
   ]
  },
  {
   "cell_type": "code",
   "execution_count": 7,
   "id": "fc625d11",
   "metadata": {},
   "outputs": [
    {
     "data": {
      "text/plain": [
       "694"
      ]
     },
     "execution_count": 7,
     "metadata": {},
     "output_type": "execute_result"
    }
   ],
   "source": [
    "#Integer division\n",
    "\n",
    "531313//765"
   ]
  },
  {
   "cell_type": "code",
   "execution_count": 4,
   "id": "6f33643b",
   "metadata": {},
   "outputs": [
    {
     "name": "stdout",
     "output_type": "stream",
     "text": [
      "Valor do Raio: 2.2\n",
      "Area do circulo: 15.205308184000003\n"
     ]
    }
   ],
   "source": [
    "#Function input\n",
    "\n",
    "raio = float(input('Valor do Raio: '))\n",
    "pi=3.1415926\n",
    "area=pi*raio**2\n",
    "print('Area do circulo:', area)\n"
   ]
  },
  {
   "cell_type": "code",
   "execution_count": null,
   "id": "9ce39ae5",
   "metadata": {},
   "outputs": [],
   "source": []
  }
 ],
 "metadata": {
  "kernelspec": {
   "display_name": "Python 3 (ipykernel)",
   "language": "python",
   "name": "python3"
  },
  "language_info": {
   "codemirror_mode": {
    "name": "ipython",
    "version": 3
   },
   "file_extension": ".py",
   "mimetype": "text/x-python",
   "name": "python",
   "nbconvert_exporter": "python",
   "pygments_lexer": "ipython3",
   "version": "3.9.7"
  }
 },
 "nbformat": 4,
 "nbformat_minor": 5
}
