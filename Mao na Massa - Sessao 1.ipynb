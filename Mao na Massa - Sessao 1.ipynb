{
 "cells": [
  {
   "cell_type": "markdown",
   "id": "ab954663",
   "metadata": {},
   "source": [
    "### <center><font color='pink'>Meus Primeiros Cálculos</font></center>"
   ]
  },
  {
   "cell_type": "markdown",
   "id": "0c95adff",
   "metadata": {},
   "source": [
    "<font color=pink> Vamos lá!!</font>"
   ]
  },
  {
   "cell_type": "code",
   "execution_count": 13,
   "id": "9f59242a",
   "metadata": {},
   "outputs": [
    {
     "data": {
      "text/plain": [
       "9"
      ]
     },
     "execution_count": 13,
     "metadata": {},
     "output_type": "execute_result"
    }
   ],
   "source": [
    " #Multiplication\n",
    "3*(2+1)"
   ]
  },
  {
   "cell_type": "code",
   "execution_count": 4,
   "id": "1fd7aced",
   "metadata": {},
   "outputs": [
    {
     "data": {
      "text/plain": [
       "216"
      ]
     },
     "execution_count": 4,
     "metadata": {},
     "output_type": "execute_result"
    }
   ],
   "source": [
    "#6 raised to 3\n",
    "6**3"
   ]
  },
  {
   "cell_type": "code",
   "execution_count": 5,
   "id": "63c553e8",
   "metadata": {},
   "outputs": [
    {
     "data": {
      "text/plain": [
       "1.3333333333333333"
      ]
     },
     "execution_count": 5,
     "metadata": {},
     "output_type": "execute_result"
    }
   ],
   "source": [
    "#Division\n",
    "4/3"
   ]
  },
  {
   "cell_type": "code",
   "execution_count": 6,
   "id": "42772293",
   "metadata": {},
   "outputs": [
    {
     "data": {
      "text/plain": [
       "90.0"
      ]
     },
     "execution_count": 6,
     "metadata": {},
     "output_type": "execute_result"
    }
   ],
   "source": [
    "#9 divided by 0.1\n",
    "9/0.1"
   ]
  },
  {
   "cell_type": "code",
   "execution_count": 7,
   "id": "fd77e6b9",
   "metadata": {},
   "outputs": [
    {
     "data": {
      "text/plain": [
       "2"
      ]
     },
     "execution_count": 7,
     "metadata": {},
     "output_type": "execute_result"
    }
   ],
   "source": [
    "#500 subtracted 498\n",
    "500-498"
   ]
  },
  {
   "cell_type": "code",
   "execution_count": 8,
   "id": "64018a2e",
   "metadata": {},
   "outputs": [
    {
     "data": {
      "text/plain": [
       "28"
      ]
     },
     "execution_count": 8,
     "metadata": {},
     "output_type": "execute_result"
    }
   ],
   "source": [
    "#Modulus\n",
    "a=6553\n",
    "b=29\n",
    "6553%29\n"
   ]
  },
  {
   "cell_type": "code",
   "execution_count": 9,
   "id": "64e8ec28",
   "metadata": {},
   "outputs": [
    {
     "data": {
      "text/plain": [
       "32768"
      ]
     },
     "execution_count": 9,
     "metadata": {},
     "output_type": "execute_result"
    }
   ],
   "source": [
    "#8 raised to 5\n",
    "pow(8,5)"
   ]
  },
  {
   "cell_type": "code",
   "execution_count": null,
   "id": "df20d9f8",
   "metadata": {},
   "outputs": [],
   "source": []
  }
 ],
 "metadata": {
  "kernelspec": {
   "display_name": "Python 3 (ipykernel)",
   "language": "python",
   "name": "python3"
  },
  "language_info": {
   "codemirror_mode": {
    "name": "ipython",
    "version": 3
   },
   "file_extension": ".py",
   "mimetype": "text/x-python",
   "name": "python",
   "nbconvert_exporter": "python",
   "pygments_lexer": "ipython3",
   "version": "3.9.7"
  }
 },
 "nbformat": 4,
 "nbformat_minor": 5
}
