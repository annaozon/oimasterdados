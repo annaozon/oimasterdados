{
 "cells": [
  {
   "cell_type": "markdown",
   "id": "8144d691",
   "metadata": {},
   "source": [
    "## Mao na Massa - Sessao VII"
   ]
  },
  {
   "cell_type": "code",
   "execution_count": 9,
   "id": "e6138685",
   "metadata": {},
   "outputs": [
    {
     "name": "stdout",
     "output_type": "stream",
     "text": [
      "Type the number of week:2\n",
      "14\n"
     ]
    }
   ],
   "source": [
    "#Realize as seguintes atividades usando um notebook Jupyter\n",
    "#a) Crie uma função que transforme semanas em dias , peça ao usuário a quantidade de semanas e retorne a\n",
    "#quantidade correspondente de dias.\n",
    "\n",
    "\n",
    "n_week = int(input('Type the number of week:' ))\n",
    "days = n_week*7\n",
    "\n",
    "print(days)\n"
   ]
  },
  {
   "cell_type": "code",
   "execution_count": 10,
   "id": "cabf57a3",
   "metadata": {},
   "outputs": [
    {
     "name": "stdout",
     "output_type": "stream",
     "text": [
      "Type the number of weeks: 2\n",
      "Number of days 14\n"
     ]
    }
   ],
   "source": [
    "def nweek(week):   \n",
    "    return week*7\n",
    "print('Number of days', nweek(int(input ('Type the number of weeks: '))))\n"
   ]
  },
  {
   "cell_type": "code",
   "execution_count": 4,
   "id": "784f078c",
   "metadata": {},
   "outputs": [
    {
     "name": "stdout",
     "output_type": "stream",
     "text": [
      "Type the number of hours: 2\n",
      "Number of seconds: 7200\n"
     ]
    }
   ],
   "source": [
    "#b) Use uma função lambda retorna a quantidade de segundos contidos em uma determinada quantidade de\n",
    "#horas.\n",
    "\n",
    "sec=(lambda hours:hours*3600)\n",
    "print(\"Number of seconds:\",sec(int(input(\"Type the number of hours: \"))))\n",
    "\n"
   ]
  },
  {
   "cell_type": "code",
   "execution_count": 14,
   "id": "8ce6cc0a",
   "metadata": {},
   "outputs": [
    {
     "ename": "SyntaxError",
     "evalue": "invalid syntax (Temp/ipykernel_18392/154336488.py, line 7)",
     "output_type": "error",
     "traceback": [
      "\u001b[1;36m  File \u001b[1;32m\"C:\\Users\\annao\\AppData\\Local\\Temp/ipykernel_18392/154336488.py\"\u001b[1;36m, line \u001b[1;32m7\u001b[0m\n\u001b[1;33m    print(lista)\u001b[0m\n\u001b[1;37m    ^\u001b[0m\n\u001b[1;31mSyntaxError\u001b[0m\u001b[1;31m:\u001b[0m invalid syntax\n"
     ]
    }
   ],
   "source": [
    "#c) Use as funções map e lambda para executar a expressão x*5.1+100 sobre os elementos da lista a seguir: [300,\n",
    "#400, 500, 700, 800], lembrando que x representa cada elemento da lista.\n",
    "x=0\n",
    "for x in range (300, 900,100):\n",
    "    print(x)\n",
    "lista=list(map(lambda x: x*5.1+100,x)\n",
    "    print(lista)"
   ]
  },
  {
   "cell_type": "code",
   "execution_count": 88,
   "id": "71a71862",
   "metadata": {},
   "outputs": [],
   "source": [
    "def nhours(hours):\n",
    "    return hours*36"
   ]
  },
  {
   "cell_type": "code",
   "execution_count": null,
   "id": "56ce1588",
   "metadata": {},
   "outputs": [],
   "source": [
    "lista= list()\n",
    "for x in range (300,900,100):\n",
    "    print(x\n",
    "        )\n",
    "lambda x: x*5.1+100\n",
    "list(map(lambda x: x*5.1+100,x)\n"
   ]
  },
  {
   "cell_type": "code",
   "execution_count": null,
   "id": "a72ef02a",
   "metadata": {},
   "outputs": [],
   "source": []
  },
  {
   "cell_type": "code",
   "execution_count": null,
   "id": "c5347aff",
   "metadata": {},
   "outputs": [],
   "source": []
  }
 ],
 "metadata": {
  "kernelspec": {
   "display_name": "Python 3 (ipykernel)",
   "language": "python",
   "name": "python3"
  },
  "language_info": {
   "codemirror_mode": {
    "name": "ipython",
    "version": 3
   },
   "file_extension": ".py",
   "mimetype": "text/x-python",
   "name": "python",
   "nbconvert_exporter": "python",
   "pygments_lexer": "ipython3",
   "version": "3.9.7"
  }
 },
 "nbformat": 4,
 "nbformat_minor": 5
}
